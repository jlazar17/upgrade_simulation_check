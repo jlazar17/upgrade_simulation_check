{
 "cells": [
  {
   "cell_type": "markdown",
   "id": "ea892d9a-f1af-4bf6-9c98-ef53b7dcc33c",
   "metadata": {
    "jp-MarkdownHeadingCollapsed": true
   },
   "source": [
    "# This notebook is used to explore differences in the `CLSim`-based simulation arrising from using `GEANT` or not\n",
    "\n",
    "In order to run this, you have to have run the scripts in `../scripts/0_injection/`, `../scripts/2_clsim_prop/`, `../scripts/3_clsim_mcpe/`, `../scripts/4_clsim_prop_no_geant`, and `5_clsim_mcpe_no_geant`. If you do not want to run these scripts yourself, a potentially incomplete selection of files can be found by changin the `DATADIR` variable to `/data/user/jlazar/upgrade_simulation_check/data`. Let me know if you experience any issues."
   ]
  },
  {
   "cell_type": "code",
   "execution_count": null,
   "id": "875ffeb2-f94a-4f4d-bc26-73336c072dd1",
   "metadata": {},
   "outputs": [],
   "source": [
    "%load_ext autoreload\n",
    "%autoreload 2"
   ]
  },
  {
   "cell_type": "code",
   "execution_count": null,
   "id": "60e03fdb-3174-427e-a47a-fe6c0d2e1f39",
   "metadata": {},
   "outputs": [],
   "source": [
    "import sys\n",
    "sys.path.append(\"..\")\n",
    "from upgrade_simulation_check.mcpe_variables import get_count_vars, count_hits_per_module, mcpe_timing\n",
    "from upgrade_simulation_check.utils import is_gen1, is_upgrade, is_ref_degg\n",
    "\n",
    "from plot_helpers import plot_nmcpe, plot_nmodules, nmcpe_histogram_ratio, nmodule_histogram_ratio"
   ]
  },
  {
   "cell_type": "code",
   "execution_count": null,
   "id": "2118203a",
   "metadata": {},
   "outputs": [],
   "source": [
    "from icecube import dataio, simclasses, dataclasses\n",
    "from astropy.stats import bayesian_blocks\n",
    "from matplotlib.gridspec import GridSpec\n",
    "from scipy.stats import ks_2samp\n",
    "from matplotlib import colors"
   ]
  },
  {
   "cell_type": "code",
   "execution_count": null,
   "id": "b8894e5e-e4f6-4c3f-8dda-76926f7f4820",
   "metadata": {},
   "outputs": [],
   "source": [
    "DATADIR = \"../data/\""
   ]
  },
  {
   "cell_type": "markdown",
   "id": "4f6553eb-f539-4f33-8d0b-6fb6750e7a86",
   "metadata": {},
   "source": [
    "## First, we will look at the distributions of MCPEs and OMs that saw a MCPE"
   ]
  },
  {
   "cell_type": "markdown",
   "id": "95bbf2e7-7c24-4a91-a099-9eacbe1632d7",
   "metadata": {},
   "source": [
    "### Let's start by looking at the distribution of $N_{\\mathrm{MCPE}}$ and $N_{\\mathrm{chan}}$ on all OMs.\n",
    "\n",
    "Now seems like an appropriate time to explain the `desc` variable.\n",
    "The first number is the PDG encoding of the charged lepton; 11 is $e^{-}$, and 13 is $\\mu^{-}$.\n",
    "The second number is the energy of the lepton in GeV.\n",
    "The six-character bit at the end is the cartesian offset of the injected interaction vertex from the reference module.\n",
    "$p$ indicates that the offset is in the positive direction, while $n$ indicates the offset is in the negative direction.\n",
    "For now, I am offsetting only in the positive $x$, positive $z$, and negative $z$ directions."
   ]
  },
  {
   "cell_type": "code",
   "execution_count": null,
   "id": "f86d91a6-bb89-421a-9011-b389261daf68",
   "metadata": {},
   "outputs": [],
   "source": [
    "particle = 13 # Should be in [11, 13]\n",
    "energy = 5 # GeV\n",
    "offset = 8 # m\n",
    "\n",
    "desc = f\"{particle}_{energy}_p{offset}p0p0\"\n",
    "file1 = f\"{DATADIR}/clsim_mcpe/upgrade_checks_clsim_mcpe_{desc}.i3.zst\"\n",
    "file2 = f\"{DATADIR}/clsim_mcpe_no_geant/upgrade_checks_clsim_mcpe_no_geant_{desc}.i3.zst\""
   ]
  },
  {
   "cell_type": "code",
   "execution_count": null,
   "id": "4eefff56-be93-427f-b8c9-a8ba31176418",
   "metadata": {},
   "outputs": [],
   "source": [
    "nmcpe1, nmodule1 = get_count_vars(file1)\n",
    "nmcpe2, nmodule2 = get_count_vars(file2)"
   ]
  },
  {
   "cell_type": "code",
   "execution_count": null,
   "id": "8d76ed44-4e74-4dcd-a5ce-3f8a54496b5b",
   "metadata": {},
   "outputs": [],
   "source": [
    "plot_nmcpe(nmcpe1, nmcpe2, figname=f\"../figures/nmcpe_scatter_all_{desc}.pdf\", xdesc=\"GEANT\", ydesc=\"no GEANT\")\n",
    "plot_nmodules(nmodule1, nmodule2, figname=f\"../figures/nmodule_scatter_all_{desc}.pdf\", xdesc=\"GEANT\", ydesc=\"no GEANT\")"
   ]
  },
  {
   "cell_type": "code",
   "execution_count": null,
   "id": "0ec5e71f-1c62-4246-82fe-d579e7c3b547",
   "metadata": {},
   "outputs": [],
   "source": [
    "nmcpe_histogram_ratio(nmcpe1, nmcpe2, desc1=\"GEANT\", desc2=\"no GEANT\")\n",
    "nmodule_histogram_ratio(nmodule1, nmodule2, nbins=7, desc1=\"GEANT\", desc2=\"no GEANT\")"
   ]
  },
  {
   "cell_type": "markdown",
   "id": "145c3a0e",
   "metadata": {},
   "source": [
    "### Now we do it for Gen1 OMs"
   ]
  },
  {
   "cell_type": "code",
   "execution_count": null,
   "id": "1655ae72",
   "metadata": {},
   "outputs": [],
   "source": [
    "nmcpe1, nmodule1 = get_count_vars(file1, filter=is_gen1)\n",
    "nmcpe2, nmodule2 = get_count_vars(file2, filter=is_gen1)"
   ]
  },
  {
   "cell_type": "code",
   "execution_count": null,
   "id": "9b11106d-95e9-4c79-87eb-42215ed6e128",
   "metadata": {},
   "outputs": [],
   "source": [
    "plot_nmcpe(nmcpe1, nmcpe2, figname=f\"../figures/nmcpe_scatter_gen1_{desc}.pdf\", xdesc=\"GEANT\", ydesc=\"no GEANT\")\n",
    "plot_nmodules(nmodule1, nmodule2, figname=f\"../figures/nmodule_scatter_gen1_{desc}.pdf\", xdesc=\"GEANT\", ydesc=\"no GEANT\")"
   ]
  },
  {
   "cell_type": "code",
   "execution_count": null,
   "id": "e43e9ad9-adc5-4354-83f5-149d7db16948",
   "metadata": {},
   "outputs": [],
   "source": [
    "nmcpe_histogram_ratio(nmcpe1, nmcpe2, desc1=\"GEANT\", desc2=\"no GEANT\")\n",
    "nmodule_histogram_ratio(nmodule1, nmodule2, nbins=7, desc1=\"GEANT\", desc2=\"no GEANT\")"
   ]
  },
  {
   "cell_type": "markdown",
   "id": "8cf7eedf",
   "metadata": {},
   "source": [
    "### And once again, but now for only Upgrade OMs"
   ]
  },
  {
   "cell_type": "code",
   "execution_count": null,
   "id": "09766127",
   "metadata": {},
   "outputs": [],
   "source": [
    "nmcpe1, nmodule1 = get_count_vars(file1, filter=is_upgrade)\n",
    "nmcpe2, nmodule2 = get_count_vars(file2, filter=is_upgrade)"
   ]
  },
  {
   "cell_type": "code",
   "execution_count": null,
   "id": "111d3eaa",
   "metadata": {},
   "outputs": [],
   "source": [
    "plot_nmcpe(nmcpe1, nmcpe2, figname=f\"../figures/nmcpe_scatter_upgrade_{desc}.pdf\", xdesc=\"GEANT\", ydesc=\"no GEANT\")\n",
    "plot_nmodules(nmodule1, nmodule2, figname=f\"../figures/nmcodule_scatter_upgrade_{desc}.pdf\", xdesc=\"GEANT\", ydesc=\"no GEANT\")"
   ]
  },
  {
   "cell_type": "code",
   "execution_count": null,
   "id": "585a8153-0a83-4813-b537-8cf456001334",
   "metadata": {},
   "outputs": [],
   "source": [
    "nmcpe_histogram_ratio(nmcpe1, nmcpe2, desc1=\"GEANT\", desc2=\"no GEANT\")\n",
    "nmodule_histogram_ratio(nmodule1, nmodule2, nbins=7, desc1=\"GEANT\", desc2=\"no GEANT\")"
   ]
  },
  {
   "cell_type": "markdown",
   "id": "cff48133-af5f-4d5b-bd69-5fdbe1ef8bf2",
   "metadata": {},
   "source": [
    "### And finally on the reference DEgg"
   ]
  },
  {
   "cell_type": "code",
   "execution_count": null,
   "id": "8dbf7f46-0784-4733-8554-8d065f7b6296",
   "metadata": {},
   "outputs": [],
   "source": [
    "nmcpe1, nmodule1 = get_count_vars(file1, filter=is_ref_degg)\n",
    "nmcpe2, nmodule2 = get_count_vars(file2, filter=is_ref_degg)"
   ]
  },
  {
   "cell_type": "code",
   "execution_count": null,
   "id": "bb7f0ddb-ae1c-4294-971a-b56d7e701ce2",
   "metadata": {},
   "outputs": [],
   "source": [
    "plot_nmcpe(nmcpe1, nmcpe2, figname=f\"../figures/nmcpe_scatter_degg_{desc}.pdf\", xdesc=\"GEANT\", ydesc=\"no GEANT\")\n",
    "plot_nmodules(nmodule1, nmodule2, figname=f\"../figures/nmodule_scatter_degg_{desc}.pdf\", xdesc=\"GEANT\", ydesc=\"no GEANT\")"
   ]
  },
  {
   "cell_type": "code",
   "execution_count": null,
   "id": "9ebc7942-6967-4175-8a2b-f930b00077cb",
   "metadata": {},
   "outputs": [],
   "source": [
    "nmcpe_histogram_ratio(nmcpe1, nmcpe2, desc1=\"GEANT\", desc2=\"no GEANT\")\n",
    "nmodule_histogram_ratio(nmodule1, nmodule2, nbins=7, desc1=\"GEANT\", desc2=\"no GEANT\")"
   ]
  },
  {
   "cell_type": "markdown",
   "id": "6b420fda-b35c-4fa9-994d-30a0e871a06f",
   "metadata": {},
   "source": [
    "## Let's try to quantify this further"
   ]
  },
  {
   "cell_type": "code",
   "execution_count": null,
   "id": "3c661ea9-04b9-49a2-bc8a-2fafaf521089",
   "metadata": {},
   "outputs": [],
   "source": [
    "cmap_mcpe = plt.get_cmap(\"Purples_r\")\n",
    "cmap_module = plt.get_cmap(\"Oranges_r\")\n",
    "\n",
    "bounds = np.linspace(-2, 0, 21)\n",
    "norm = colors.BoundaryNorm(bounds, cmap_mcpe.N)"
   ]
  },
  {
   "cell_type": "code",
   "execution_count": null,
   "id": "6914044e-3909-43ea-82b9-e8fa1583bf9e",
   "metadata": {},
   "outputs": [],
   "source": [
    "particle = 13\n",
    "\n",
    "res = np.full((2, 9, 9), np.nan)\n",
    "for idx, energy in enumerate(np.linspace(1, 9, 9, dtype=int)):\n",
    "    for jdx, offset in enumerate(np.linspace(1, 9, 9, dtype=int)):\n",
    "        desc = f\"{particle}_{energy}_p{offset}p0p0\"\n",
    "        file1 = f\"{DATADIR}/clsim_mcpe/upgrade_checks_clsim_mcpe_{desc}.i3.zst\"\n",
    "        file2 = f\"{DATADIR}/clsim_mcpe_no_geant/upgrade_checks_clsim_mcpe_no_geant_{desc}.i3.zst\"\n",
    "        try:\n",
    "            nmcpe1, nmodule1 = get_count_vars(file1)\n",
    "            nmcpe2, nmodule2 = get_count_vars(file2)\n",
    "        except RuntimeError:\n",
    "            continue\n",
    "\n",
    "        test = ks_2samp(nmcpe1, nmcpe2)\n",
    "        res[0, idx, jdx] = test.pvalue\n",
    "        test = ks_2samp(nmodule1, nmodule2)\n",
    "        res[1, idx, jdx] = test.pvalue\n",
    "\n",
    "#==== MCPE figure ====#\n",
    "fig, ax = plt.subplots()\n",
    "im = ax.imshow(\n",
    "    np.log10(res[0,:,:][::-1]),\n",
    "    extent=[0.5, 9.5, 0.5, 9.5],\n",
    "    cmap=cmap_mcpe,\n",
    "    norm=norm\n",
    ")\n",
    "\n",
    "ax.set_xlabel(r\"$\\mathrm{Horizontal\\, offset}~\\left[\\mathrm{m}\\right]$\")\n",
    "ax.set_ylabel(r\"$E_{\\ell}~\\left[\\mathrm{GeV}\\right]$\")\n",
    "\n",
    "ax.set_title(\"All OMs\")\n",
    "\n",
    "cbar = plt.colorbar(im, label=r\"$\\log_{10}\\left(p_{\\mathrm{MCPE}}\\right)$\")\n",
    "\n",
    "plt.savefig(f\"../figures/clsim_nmcpe_heatmap_{particle}_all.pdf\")\n",
    "plt.show()\n",
    "\n",
    "#==== Module figure ====#\n",
    "fig, ax = plt.subplots()\n",
    "im = ax.imshow(\n",
    "    np.log10(res[1,:,:][::-1]),\n",
    "    extent=[0.5, 9.5, 0.5, 9.5],\n",
    "    cmap=cmap_module,\n",
    "    norm=norm\n",
    ")\n",
    "\n",
    "ax.set_xlabel(r\"$\\mathrm{Horizontal\\, offset}~\\left[\\mathrm{m}\\right]$\")\n",
    "ax.set_ylabel(r\"$E_{\\ell}~\\left[\\mathrm{GeV}\\right]$\")\n",
    "\n",
    "ax.set_title(\"All OMs\")\n",
    "\n",
    "cbar = plt.colorbar(im, label=r\"$\\log_{10}\\left(p_{\\mathrm{PMT}}\\right)$\")\n",
    "\n",
    "plt.savefig(f\"../figures/clsim_npmt_heatmap_{particle}_all.pdf\")\n",
    "plt.show()"
   ]
  },
  {
   "cell_type": "code",
   "execution_count": null,
   "id": "d23443ea-36e0-4f7d-b883-55a394d029b3",
   "metadata": {},
   "outputs": [],
   "source": [
    "bins = np.logspace(-2, 0, 11)\n",
    "\n",
    "h, _ = np.histogram(res[0, :, :].flatten(), bins=bins)\n",
    "\n",
    "fig, ax = plt.subplots()\n",
    "ax.step(bins[:-1], h / h.sum() / np.diff(bins), where=\"pre\", label=r\"$N_{\\mathrm{MCPE}}$\")\n",
    "\n",
    "h, _ = np.histogram(res[1, :, :].flatten(), bins=bins)\n",
    "ax.step(bins[:-1], h / h.sum() / np.diff(bins), where=\"pre\", label=r\"$N_{\\mathrm{PMT}}$\")\n",
    "\n",
    "ax.set_xlabel(r\"$p$-value\")\n",
    "ax.set_ylabel(r\"$\\frac{\\mathrm{d}N}{\\mathrm{d}p}$\")\n",
    "\n",
    "ax.loglog()\n",
    "ax.legend()\n",
    "\n",
    "plt.show()"
   ]
  },
  {
   "cell_type": "markdown",
   "id": "e7fe3ca4-4739-4624-8dd2-ab0e9cfbdd32",
   "metadata": {},
   "source": [
    "### Now we do it for Gen1 DOMs"
   ]
  },
  {
   "cell_type": "code",
   "execution_count": null,
   "id": "1b3a48d4-ca31-42ea-9116-2c581220da00",
   "metadata": {},
   "outputs": [],
   "source": [
    "res = np.full((2, 9, 9), np.nan)\n",
    "for idx, energy in enumerate(np.linspace(1, 9, 9, dtype=int)):\n",
    "    for jdx, offset in enumerate(np.linspace(1, 9, 9, dtype=int)):\n",
    "        desc = f\"{particle}_{energy}_p{offset}p0p0\"\n",
    "        file1 = f\"{DATADIR}/clsim_mcpe/upgrade_checks_clsim_mcpe_{desc}.i3.zst\"\n",
    "        file2 = f\"{DATADIR}/clsim_mcpe_no_geant/upgrade_checks_clsim_mcpe_no_geant_{desc}.i3.zst\"\n",
    "\n",
    "        try:\n",
    "            nmcpe1, nmodule1 = get_count_vars(file1, filter=is_gen1)\n",
    "            nmcpe2, nmodule2 = get_count_vars(file2, filter=is_gen1)\n",
    "        except RuntimeError:\n",
    "            continue\n",
    "        \n",
    "        test = ks_2samp(nmcpe1, nmcpe2)\n",
    "        res[0, idx, jdx] = test.pvalue\n",
    "        test = ks_2samp(nmodule1, nmodule2)\n",
    "        res[1, idx, jdx] = test.pvalue\n",
    "\n",
    "#==== MCPE figure ====#\n",
    "fig, ax = plt.subplots()\n",
    "im = ax.imshow(\n",
    "    np.log10(res[0,:,:][::-1]),\n",
    "    extent=[0.5, 9.5, 0.5, 9.5],\n",
    "    cmap=cmap_mcpe,\n",
    "    norm=norm\n",
    ")\n",
    "\n",
    "ax.set_xlabel(r\"$\\mathrm{Horizontal\\, offset}~\\left[\\mathrm{m}\\right]$\")\n",
    "ax.set_ylabel(r\"$E_{\\ell}~\\left[\\mathrm{GeV}\\right]$\")\n",
    "\n",
    "ax.set_title(\"Gen1 DOMs\")\n",
    "\n",
    "cbar = plt.colorbar(im, label=r\"$\\log_{10}\\left(p_{\\mathrm{MCPE}}\\right)$\")\n",
    "\n",
    "plt.savefig(f\"../figures/clsim_nmcpe_heatmap_{particle}_gen1.pdf\")\n",
    "plt.show()\n",
    "\n",
    "#==== Module figure ====#\n",
    "fig, ax = plt.subplots()\n",
    "im = ax.imshow(\n",
    "    np.log10(res[1,:,:][::-1]),\n",
    "    extent=[0.5, 9.5, 0.5, 9.5],\n",
    "    cmap=cmap_module,\n",
    "    norm=norm\n",
    ")\n",
    "\n",
    "ax.set_xlabel(r\"$\\mathrm{Horizontal\\, offset}~\\left[\\mathrm{m}\\right]$\")\n",
    "ax.set_ylabel(r\"$E_{\\ell}~\\left[\\mathrm{GeV}\\right]$\")\n",
    "\n",
    "ax.set_title(\"Gen1 DOMs\")\n",
    "\n",
    "cbar = plt.colorbar(im, label=r\"$\\log_{10}\\left(p_{\\mathrm{PMT}}\\right)$\")\n",
    "\n",
    "plt.savefig(f\"../figures/clsim_npmt_heatmap_{particle}_gen1.pdf\")\n",
    "plt.show()"
   ]
  },
  {
   "cell_type": "code",
   "execution_count": null,
   "id": "b0c4afa4-3943-457c-86a0-4010770c098d",
   "metadata": {},
   "outputs": [],
   "source": [
    "bins = np.logspace(-2, 0, 11)\n",
    "\n",
    "h, _ = np.histogram(res[0, :, :].flatten(), bins=bins)\n",
    "\n",
    "fig, ax = plt.subplots()\n",
    "ax.step(bins[:-1], h / h.sum() / np.diff(bins), where=\"pre\", label=r\"$N_{\\mathrm{MCPE}}$\")\n",
    "\n",
    "h, _ = np.histogram(res[1, :, :].flatten(), bins=bins)\n",
    "ax.step(bins[:-1], h / h.sum() / np.diff(bins), where=\"pre\", label=r\"$N_{\\mathrm{PMT}}$\")\n",
    "\n",
    "ax.set_xlabel(r\"$p$-value\")\n",
    "ax.set_ylabel(r\"$\\frac{\\mathrm{d}N}{\\mathrm{d}p}$\")\n",
    "\n",
    "ax.loglog()\n",
    "ax.legend()\n",
    "\n",
    "plt.show()"
   ]
  },
  {
   "cell_type": "markdown",
   "id": "cc0b6b86-9eb6-450c-8adc-d7d1b8b1b58c",
   "metadata": {},
   "source": [
    "### Now only for Upgrade OMs"
   ]
  },
  {
   "cell_type": "code",
   "execution_count": null,
   "id": "c4771318-b6b8-4aaf-aa8b-a8d59220d48a",
   "metadata": {},
   "outputs": [],
   "source": [
    "res = np.full((2, 9, 9), np.nan)\n",
    "for idx, energy in enumerate(np.linspace(1, 9, 9, dtype=int)):\n",
    "    for jdx, offset in enumerate(np.linspace(1, 9, 9, dtype=int)):\n",
    "        desc = f\"{particle}_{energy}_p{offset}p0p0\"\n",
    "        file1 = f\"{DATADIR}/clsim_mcpe/upgrade_checks_clsim_mcpe_{desc}.i3.zst\"\n",
    "        file2 = f\"{DATADIR}/clsim_mcpe_no_geant/upgrade_checks_clsim_mcpe_no_geant_{desc}.i3.zst\"\n",
    "\n",
    "        try:\n",
    "            nmcpe1, nmodule1 = get_count_vars(file1, filter=is_upgrade)\n",
    "            nmcpe2, nmodule2 = get_count_vars(file2, filter=is_upgrade)\n",
    "        except RuntimeError:\n",
    "            continue\n",
    "        \n",
    "        test = ks_2samp(nmcpe1, nmcpe2)\n",
    "        res[0, idx, jdx] = test.pvalue\n",
    "        test = ks_2samp(nmodule1, nmodule2)\n",
    "        res[1, idx, jdx] = test.pvalue\n",
    "\n",
    "#==== MCPE figure ====#\n",
    "fig, ax = plt.subplots()\n",
    "im = ax.imshow(\n",
    "    np.log10(res[0,:,:][::-1]),\n",
    "    extent=[0.5, 9.5, 0.5, 9.5],\n",
    "    cmap=cmap_mcpe,\n",
    "    norm=norm\n",
    ")\n",
    "\n",
    "ax.set_xlabel(r\"$\\mathrm{Horizontal\\, offset}~\\left[\\mathrm{m}\\right]$\")\n",
    "ax.set_ylabel(r\"$E_{\\ell}~\\left[\\mathrm{GeV}\\right]$\")\n",
    "\n",
    "ax.set_title(\"Upgrade OMs\")\n",
    "cbar = plt.colorbar(im, label=r\"$\\log_{10}\\left(p_{\\mathrm{MCPE}}\\right)$\")\n",
    "\n",
    "plt.savefig(f\"../figures/clsim_nmcpe_heatmap_{particle}_upgrade.pdf\")\n",
    "plt.show()\n",
    "\n",
    "#==== Module figure ====#\n",
    "fig, ax = plt.subplots()\n",
    "im = ax.imshow(\n",
    "    np.log10(res[1,:,:][::-1]),\n",
    "    extent=[0.5, 9.5, 0.5, 9.5],\n",
    "    cmap=cmap_module,\n",
    "    norm=norm\n",
    ")\n",
    "\n",
    "ax.set_xlabel(r\"$\\mathrm{Horizontal\\, offset}~\\left[\\mathrm{m}\\right]$\")\n",
    "ax.set_ylabel(r\"$E_{\\ell}~\\left[\\mathrm{GeV}\\right]$\")\n",
    "\n",
    "ax.set_title(\"Upgrade OMs\")\n",
    "\n",
    "cbar = plt.colorbar(im, label=r\"$\\log_{10}\\left(p_{\\mathrm{PMT}}\\right)$\")\n",
    "\n",
    "plt.savefig(f\"../figures/clsim_npmt_heatmap_{particle}_upgrade.pdf\")\n",
    "plt.show()"
   ]
  },
  {
   "cell_type": "code",
   "execution_count": null,
   "id": "1b358fa6-fba4-4255-814b-653b5f5bbff1",
   "metadata": {},
   "outputs": [],
   "source": [
    "bins = np.logspace(-2, 0, 11)\n",
    "\n",
    "h, _ = np.histogram(res[0, :, :].flatten(), bins=bins)\n",
    "\n",
    "fig, ax = plt.subplots()\n",
    "ax.step(bins[:-1], h / h.sum() / np.diff(bins), where=\"pre\", label=r\"$N_{\\mathrm{MCPE}}$\")\n",
    "\n",
    "h, _ = np.histogram(res[1, :, :].flatten(), bins=bins)\n",
    "ax.step(bins[:-1], h / h.sum() / np.diff(bins), where=\"pre\", label=r\"$N_{\\mathrm{PMT}}$\")\n",
    "\n",
    "ax.set_xlabel(r\"$p$-value\")\n",
    "ax.set_ylabel(r\"$\\frac{\\mathrm{d}N}{\\mathrm{d}p}$\")\n",
    "\n",
    "ax.loglog()\n",
    "ax.legend()\n",
    "\n",
    "plt.show()"
   ]
  },
  {
   "cell_type": "markdown",
   "id": "5c8b30a2-8269-4b7e-b2e9-6daa115456f1",
   "metadata": {},
   "source": [
    "### And finally for the reference DEgg"
   ]
  },
  {
   "cell_type": "code",
   "execution_count": null,
   "id": "277b2deb-2d10-4bfe-9654-62ff91eb15a2",
   "metadata": {},
   "outputs": [],
   "source": [
    "res = np.full((2, 9, 9), np.nan)\n",
    "for idx, energy in enumerate(np.linspace(1, 9, 9, dtype=int)):\n",
    "    for jdx, offset in enumerate(np.linspace(1, 9, 9, dtype=int)):\n",
    "        desc = f\"{particle}_{energy}_p{offset}p0p0\"\n",
    "        file1 = f\"{DATADIR}/clsim_mcpe/upgrade_checks_clsim_mcpe_{desc}.i3.zst\"\n",
    "        file2 = f\"{DATADIR}/clsim_mcpe_no_geant/upgrade_checks_clsim_mcpe_no_geant_{desc}.i3.zst\"\n",
    "\n",
    "        try:\n",
    "            nmcpe1, nmodule1 = get_count_vars(file1, filter=is_ref_degg)\n",
    "            nmcpe2, nmodule2 = get_count_vars(file2, filter=is_ref_degg)\n",
    "        except RuntimeError:\n",
    "            continue\n",
    "        \n",
    "        test = ks_2samp(nmcpe1, nmcpe2)\n",
    "        res[0, idx, jdx] = test.pvalue\n",
    "        test = ks_2samp(nmodule1, nmodule2)\n",
    "        res[1, idx, jdx] = test.pvalue\n",
    "        \n",
    "\n",
    "#==== MCPE figure ====#\n",
    "fig, ax = plt.subplots()\n",
    "im = ax.imshow(\n",
    "    np.log10(res[0,:,:][::-1]),\n",
    "    extent=[0.5, 9.5, 0.5, 9.5],\n",
    "    cmap=cmap_mcpe,\n",
    "    norm=norm\n",
    ")\n",
    "\n",
    "ax.set_xlabel(r\"$\\mathrm{Horizontal\\, offset}~\\left[\\mathrm{m}\\right]$\")\n",
    "ax.set_ylabel(r\"$E_{\\ell}~\\left[\\mathrm{GeV}\\right]$\")\n",
    "\n",
    "ax.set_title(\"Reference DEgg\")\n",
    "\n",
    "cbar = plt.colorbar(im, label=r\"$\\log_{10}\\left(p_{\\mathrm{MCPE}}\\right)$\")\n",
    "\n",
    "plt.savefig(f\"../figures/clsim_nmcpe_heatmap_{particle}_degg.pdf\")\n",
    "plt.show()\n",
    "\n",
    "#==== Module figure ====#\n",
    "fig, ax = plt.subplots()\n",
    "im = ax.imshow(\n",
    "    np.log10(res[1,:,:][::-1]),\n",
    "    extent=[0.5, 9.5, 0.5, 9.5],\n",
    "    cmap=cmap_module,\n",
    "    norm=norm\n",
    ")\n",
    "\n",
    "ax.set_xlabel(r\"$\\mathrm{Horizontal\\, offset}~\\left[\\mathrm{m}\\right]$\")\n",
    "ax.set_ylabel(r\"$E_{\\ell}~\\left[\\mathrm{GeV}\\right]$\")\n",
    "\n",
    "ax.set_title(\"Reference DEgg\")\n",
    "\n",
    "cbar = plt.colorbar(im, label=r\"$\\log_{10}\\left(p_{\\mathrm{PMT}}\\right)$\")\n",
    "\n",
    "plt.savefig(f\"../figures/clsim_npmt_heatmap_{particle}_degg.pdf\")\n",
    "plt.show()"
   ]
  },
  {
   "cell_type": "code",
   "execution_count": null,
   "id": "6f37e18c-9614-4bd5-9025-164390f670d0",
   "metadata": {},
   "outputs": [],
   "source": [
    "bins = np.logspace(-2, 0, 11)\n",
    "\n",
    "h, _ = np.histogram(res[0, :, :].flatten(), bins=bins)\n",
    "\n",
    "fig, ax = plt.subplots()\n",
    "ax.step(bins[:-1], h / h.sum() / np.diff(bins), where=\"pre\", label=r\"$N_{\\mathrm{MCPE}}$\")\n",
    "\n",
    "h, _ = np.histogram(res[1, :, :].flatten(), bins=bins)\n",
    "ax.step(bins[:-1], h / h.sum() / np.diff(bins), where=\"pre\", label=r\"$N_{\\mathrm{PMT}}$\")\n",
    "\n",
    "ax.set_xlabel(r\"$p$-value\")\n",
    "ax.set_ylabel(r\"$\\frac{\\mathrm{d}N}{\\mathrm{d}p}$\")\n",
    "\n",
    "ax.loglog()\n",
    "ax.legend()\n",
    "\n",
    "plt.show()"
   ]
  },
  {
   "cell_type": "markdown",
   "id": "f2459b27-6061-4819-845e-a39a863c0384",
   "metadata": {},
   "source": [
    "## We can now check the timing information of MCPEs"
   ]
  },
  {
   "cell_type": "code",
   "execution_count": null,
   "id": "9297cc42-038d-4abf-bba6-bd66177e7353",
   "metadata": {},
   "outputs": [],
   "source": [
    "particle = 13 # must be in [11, 13, \"pi\"]\n",
    "energy = 5 # GeV\n",
    "offset = 8 # m\n",
    "\n",
    "desc = f\"{particle}_{energy}_p{offset}p0p0\"\n",
    "file1 = f\"../data/clsim_mcpe/upgrade_checks_clsim_mcpe_{desc}.i3.zst\"\n",
    "file2 = f\"../data/clsim_mcpe_no_geant/upgrade_checks_clsim_mcpe_no_geant_{desc}.i3.zst\"\n",
    "\n",
    "timing1 = mcpe_timing(file1, filter=is_ref_degg)\n",
    "timing2 = mcpe_timing(file2, filter=is_ref_degg)"
   ]
  },
  {
   "cell_type": "code",
   "execution_count": null,
   "id": "c9dfdc10-5f9e-4505-8c33-f0f8efe77c49",
   "metadata": {},
   "outputs": [],
   "source": [
    "times = np.linspace(0, 70, 71)\n",
    "\n",
    "nmcpemin = 1\n",
    "\n",
    "timing_cdfs1 = []\n",
    "for t in timing1:\n",
    "    if len(t) < nmcpemin:\n",
    "        continue\n",
    "    timing_cdfs1.append(np.array([(t<x).sum() / len(t) for x in times]))\n",
    "\n",
    "timing_cdfs2 = []\n",
    "for t in timing2:\n",
    "    if len(t) < nmcpemin:\n",
    "        continue\n",
    "    timing_cdfs2.append(np.array([(t<x).sum() / len(t) for x in times]))"
   ]
  },
  {
   "cell_type": "code",
   "execution_count": null,
   "id": "1dc4fb1a-b431-4f36-abea-bdb23cd509aa",
   "metadata": {},
   "outputs": [],
   "source": [
    "fig = plt.figure(figsize=(12, 4))\n",
    "gs = GridSpec(\n",
    "    1, 2,\n",
    "    wspace=0.05, hspace=0.05\n",
    ")\n",
    "\n",
    "ax0 = fig.add_subplot(gs[0])\n",
    "ax1 = fig.add_subplot(gs[1])\n",
    "\n",
    "for cdf in timing_cdfs1:\n",
    "    ax0.plot(times, cdf, alpha=0.01, color=\"crimson\")\n",
    "ax0.plot(times, np.median(timing_cdfs1, axis=0), color=\"crimson\", label=\"GEANT\", lw=3)\n",
    "\n",
    "for cdf in timing_cdfs2:\n",
    "    ax1.plot(times, cdf, alpha=0.01, color=\"dodgerblue\")\n",
    "ax1.plot(times, np.median(timing_cdfs2, axis=0), color=\"dodgerblue\", label=\"No GEANT\", lw=3)\n",
    "\n",
    "# Configure y-axes\n",
    "ax0.set_label(\"CDF\")\n",
    "ax0.set_ylim(-0.05, 1.05)\n",
    "ax1.set_ylim(-0.05, 1.05)\n",
    "ax1.set_yticklabels([])\n",
    "\n",
    "# Configure x-axes\n",
    "ax0.set_xlim(0, 70)\n",
    "ax1.set_xlim(0, 70)\n",
    "ax0.set_xlabel(r\"$t~\\left[\\mathrm{ns}\\right]$\")\n",
    "ax1.set_xlabel(r\"$t~\\left[\\mathrm{ns}\\right]$\")\n",
    "\n",
    "ax0.legend(loc=2)\n",
    "ax1.legend(loc=2)\n",
    "\n",
    "plt.show()"
   ]
  },
  {
   "cell_type": "code",
   "execution_count": null,
   "id": "5b940adf-680a-4d83-9920-2187b2d74a9c",
   "metadata": {},
   "outputs": [],
   "source": [
    "fig, ax = plt.subplots()\n",
    "\n",
    "for cdf in timing_cdfs1:\n",
    "    ax.plot(times, cdf, alpha=0.01, color=\"crimson\")\n",
    "\n",
    "for cdf in timing_cdfs2:\n",
    "    ax.plot(times, cdf, alpha=0.01, color=\"dodgerblue\")\n",
    "    \n",
    "ax.plot(times, np.median(timing_cdfs1, axis=0), color=\"crimson\", label=\"GEANT\", lw=3)\n",
    "ax.plot(times, np.median(timing_cdfs2, axis=0), color=\"dodgerblue\", label=\"No GEANT\", lw=3)\n",
    "\n",
    "# Configure y-axes\n",
    "ax.set_label(\"CDF\")\n",
    "ax.set_ylim(-0.05, 1.05)\n",
    "\n",
    "# Configure x-axes\n",
    "ax.set_xlim(0, 70)\n",
    "ax.set_xlabel(r\"$t~\\left[\\mathrm{ns}\\right]$\")\n",
    "\n",
    "ax.legend(loc=2)\n",
    "\n",
    "plt.show()"
   ]
  },
  {
   "cell_type": "markdown",
   "id": "3f245704-495f-419a-94ef-7b5bdbd51b3b",
   "metadata": {},
   "source": [
    "## Let's see how this difference changes with the number of MCPEs"
   ]
  },
  {
   "cell_type": "code",
   "execution_count": null,
   "id": "8dd7819b-8039-43cc-9656-4c3326db9d54",
   "metadata": {},
   "outputs": [],
   "source": [
    "times = np.linspace(0, 70, 71)\n",
    "for nmcpemin in [1, 3, 5, 10, 30, 50]:\n",
    "\n",
    "    #==== Compute ====#\n",
    "    timing_cdfs1 = []\n",
    "    for t in timing1:\n",
    "        if len(t) < nmcpemin:\n",
    "            continue\n",
    "        timing_cdfs1.append(np.array([(t<x).sum() / len(t) for x in times]))\n",
    "    \n",
    "    timing_cdfs2 = []\n",
    "    for t in timing2:\n",
    "        if len(t) < nmcpemin:\n",
    "            continue\n",
    "        timing_cdfs2.append(np.array([(t<x).sum() / len(t) for x in times]))\n",
    "\n",
    "    #==== Split plot ====#\n",
    "    fig = plt.figure(figsize=(12, 4))\n",
    "    gs = GridSpec(\n",
    "        1, 2,\n",
    "        wspace=0.05, hspace=0.05\n",
    "    )\n",
    "\n",
    "    ax0 = fig.add_subplot(gs[0])\n",
    "    ax1 = fig.add_subplot(gs[1])\n",
    "    \n",
    "    for cdf in timing_cdfs1:\n",
    "        ax0.plot(times, cdf, alpha=0.01, color=\"crimson\")\n",
    "    ax0.plot(times, np.median(timing_cdfs1, axis=0), color=\"crimson\", label=\"GEANT\", lw=3)\n",
    "    \n",
    "    for cdf in timing_cdfs2:\n",
    "        ax1.plot(times, cdf, alpha=0.01, color=\"dodgerblue\")\n",
    "    ax1.plot(times, np.median(timing_cdfs2, axis=0), color=\"dodgerblue\", label=\"No GEANT\", lw=3)\n",
    "    \n",
    "    # Configure y-axes\n",
    "    ax0.set_label(\"CDF\")\n",
    "    ax0.set_ylim(-0.05, 1.05)\n",
    "    ax1.set_ylim(-0.05, 1.05)\n",
    "    ax1.set_yticklabels([])\n",
    "    \n",
    "    # Configure x-axes\n",
    "    ax0.set_xlim(0, 70)\n",
    "    ax1.set_xlim(0, 70)\n",
    "    ax0.set_xlabel(r\"$t~\\left[\\mathrm{ns}\\right]$\")\n",
    "    ax1.set_xlabel(r\"$t~\\left[\\mathrm{ns}\\right]$\")\n",
    "\n",
    "    # Configure legends\n",
    "    ax0.legend(loc=2)\n",
    "    ax1.legend(loc=2)\n",
    "    \n",
    "    # Configure text\n",
    "    ax0.text(2, 0.87, r\"$N_{\\mathrm{MCPE}}\\geq %d$\" % nmcpemin)\n",
    "    ax1.text(2, 0.87, r\"$N_{\\mathrm{MCPE}}\\geq %d$\" % nmcpemin)\n",
    "\n",
    "    plt.savefig(f\"../figures/geant_timing_comparisons_split_ncmpemin-{nmcpemin:03}_{desc}.pdf\")\n",
    "    \n",
    "    plt.show()\n",
    "\n",
    "    #==== Combined plot ====#\n",
    "    fig, ax = plt.subplots()\n",
    "\n",
    "    for cdf in timing_cdfs1:\n",
    "        ax.plot(times, cdf, alpha=0.01, color=\"crimson\")\n",
    "    \n",
    "    for cdf in timing_cdfs2:\n",
    "        ax.plot(times, cdf, alpha=0.01, color=\"dodgerblue\")\n",
    "        \n",
    "    ax.plot(times, np.median(timing_cdfs1, axis=0), color=\"crimson\", label=\"GEANT\", lw=3)\n",
    "    ax.plot(times, np.median(timing_cdfs2, axis=0), color=\"dodgerblue\", label=\"No GEANT\", lw=3)\n",
    "    \n",
    "    # Configure y-axes\n",
    "    ax.set_label(\"CDF\")\n",
    "    ax.set_ylim(-0.05, 1.05)\n",
    "    \n",
    "    # Configure x-axes\n",
    "    ax.set_xlim(0, 70)\n",
    "    ax.set_xlabel(r\"$t~\\left[\\mathrm{ns}\\right]$\")\n",
    "    \n",
    "    ax.legend(loc=2)\n",
    "\n",
    "    # Configure text\n",
    "    ax.text(2, 0.83, r\"$N_{\\mathrm{MCPE}}\\geq %d$\" % nmcpemin)\n",
    "    \n",
    "    plt.savefig(f\"../figures/geant_timing_comparisons_merged_ncmpemin-{nmcpemin:03}_{desc}.pdf\")\n",
    "    \n",
    "    plt.show()"
   ]
  },
  {
   "cell_type": "code",
   "execution_count": null,
   "id": "25f75c82-9b12-4408-ab94-e476333788a8",
   "metadata": {},
   "outputs": [],
   "source": []
  },
  {
   "cell_type": "code",
   "execution_count": null,
   "id": "911dcbea-45a7-425f-9071-c205e128262e",
   "metadata": {},
   "outputs": [],
   "source": []
  }
 ],
 "metadata": {
  "kernelspec": {
   "display_name": "py3-v4.3.0: icetray/v1.9.2",
   "language": "shell",
   "name": "py3-v4.3.0_v1.9.2"
  },
  "language_info": {
   "codemirror_mode": {
    "name": "ipython",
    "version": 3
   },
   "file_extension": ".py",
   "mimetype": "text/x-python",
   "name": "python",
   "nbconvert_exporter": "python",
   "pygments_lexer": "ipython3",
   "version": "3.11.3"
  }
 },
 "nbformat": 4,
 "nbformat_minor": 5
}
